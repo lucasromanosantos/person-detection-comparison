{
 "cells": [
  {
   "cell_type": "code",
   "execution_count": 10,
   "metadata": {},
   "outputs": [
    {
     "name": "stdout",
     "output_type": "stream",
     "text": [
      "{'head': [0.159, 0.333, 0.06237184698693454, 0.0173], 'body': [0.167, 0.284, 0.044965573004446924, 0.0185], 'shoulder': [0.209, 0.273, 0.04614403797313571, 0.0183]}\n"
     ]
    }
   ],
   "source": [
    "import numpy as np\n",
    "\n",
    "result = {}\n",
    "\n",
    "folder = 'inference-times'\n",
    "detectors = ['frcnn-fpn', 'retinanet', 'yolov3', 'ssd300']\n",
    "labels = ['head', 'shoulder', 'body']\n",
    "\n",
    "for LABEL in labels:\n",
    "  result[LABEL] = []\n",
    "  for detector in detectors:\n",
    "    path = \"%s/%s-%s.txt\" % (folder, LABEL, detector)\n",
    "    with open(path) as f:\n",
    "      data = [line[:-1] for line in f]\n",
    "      data = [float(x) for x in data]\n",
    "      data = np.array(data)\n",
    "      result[LABEL].append(np.median(data))\n",
    "\n",
    "print(result)"
   ]
  },
  {
   "cell_type": "code",
   "execution_count": 12,
   "metadata": {},
   "outputs": [
    {
     "data": {
      "image/png": "[encoded data removed]",
      "text/plain": [
       "<Figure size 432x288 with 1 Axes>"
      ]
     },
     "metadata": {},
     "output_type": "display_data"
    }
   ],
   "source": [
    "import matplotlib.pyplot as plt\n",
    "\n",
    "X = np.arange(4)\n",
    "\n",
    "width = 0.25\n",
    "\n",
    "fig = plt.figure()\n",
    "ax = fig.add_subplot(111)\n",
    "\n",
    "r1 = ax.bar(X - width, result['head'], color='r', width=width)\n",
    "r2 = ax.bar(X, result['shoulder'], color='g', width=width)\n",
    "r3 = ax.bar(X + width, result['body'], color='b', width=width)\n",
    "\n",
    "ax.set_ylabel('inference time (s)')\n",
    "ax.set_xlabel(X + width)\n",
    "ax.set_xticks(X)\n",
    "ax.set_xticklabels(('Faster R-CNN + FPN', 'RetinaNet', 'YOLOv3', 'SSD300'))\n",
    "\n",
    "ax.legend((r1[0], r2[0], r3[0]), ('head', 'shoulder', 'body'))\n",
    "\n",
    "plt.show()"
   ]
  },
  {
   "cell_type": "code",
   "execution_count": null,
   "metadata": {},
   "outputs": [],
   "source": []
  }
 ],
 "metadata": {
  "kernelspec": {
   "display_name": "Python 3",
   "language": "python",
   "name": "python3"
  },
  "language_info": {
   "codemirror_mode": {
    "name": "ipython",
    "version": 3
   },
   "file_extension": ".py",
   "mimetype": "text/x-python",
   "name": "python",
   "nbconvert_exporter": "python",
   "pygments_lexer": "ipython3",
   "version": "3.5.2"
  }
 },
 "nbformat": 4,
 "nbformat_minor": 2
}
