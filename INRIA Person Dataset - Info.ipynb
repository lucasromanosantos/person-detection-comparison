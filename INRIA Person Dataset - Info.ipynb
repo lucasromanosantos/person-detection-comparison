{
 "cells": [
  {
   "cell_type": "code",
   "execution_count": 39,
   "metadata": {},
   "outputs": [],
   "source": [
    "import os\n",
    "import xml.etree.ElementTree\n",
    "\n",
    "result = []\n",
    "xml_path = '/home/lrs14/inria/Xmls/Train/xmls'\n",
    "\n",
    "for filename in os.listdir(xml_path):\n",
    "  e = xml.etree.ElementTree.parse(xml_path + '/' + filename).getroot()\n",
    "\n",
    "  size = e.find('size')\n",
    "  width = float(size.find('width').text)\n",
    "  height = float(size.find('height').text)\n",
    "\n",
    "  labels = []\n",
    "  for obj in e.iter('object'):\n",
    "    key = obj.find('name').text\n",
    "\n",
    "    bndbox = obj.find('bndbox')\n",
    "    xmin = float(bndbox.find('xmin').text)\n",
    "    ymin = float(bndbox.find('ymin').text)\n",
    "    xmax = float(bndbox.find('xmax').text)\n",
    "    ymax = float(bndbox.find('ymax').text)\n",
    "\n",
    "    dw = 1./width\n",
    "    dh = 1./height\n",
    "\n",
    "    x = ((xmin + xmax) / 2) * dw\n",
    "    y = ((ymin + ymax) / 2) * dh\n",
    "    w = (xmax - xmin) * dw\n",
    "    h = (ymax - ymin) * dh\n",
    "    \n",
    "    label = {\n",
    "      'label': key,\n",
    "      'xmin': xmin,\n",
    "      'ymin': ymin,\n",
    "      'xmax': xmax,\n",
    "      'ymax': ymax,\n",
    "    }\n",
    "    labels.append(label)\n",
    "  \n",
    "  value = {\n",
    "    'filename': filename,\n",
    "    'width': width,\n",
    "    'height': height,\n",
    "    'labels': labels,\n",
    "  }\n",
    "  result.append(value)"
   ]
  },
  {
   "cell_type": "code",
   "execution_count": 43,
   "metadata": {},
   "outputs": [
    {
     "name": "stdout",
     "output_type": "stream",
     "text": [
      "head => width ratio: 6.10; height ratio: 6.91\n",
      "shoulder => width ratio: 12.11; height ratio: 11.16\n",
      "inria_person => width ratio: 14.89; height ratio: 44.60\n"
     ]
    }
   ],
   "source": [
    "labels = ['head', 'shoulder', 'inria_person']\n",
    "for LABEL in labels:\n",
    "\n",
    "  width_ratios = []\n",
    "  height_ratios = []\n",
    "  for image in result:\n",
    "    for label in image['labels']:\n",
    "      if label['label'] != LABEL:\n",
    "        continue\n",
    "      width = label['xmax'] - label['xmin']\n",
    "      height = label['ymax'] - label['ymin']\n",
    "      width_ratio = width * 100 / image['width']\n",
    "      height_ratio = height * 100 / image['height']\n",
    "      width_ratios.append(width_ratio)\n",
    "      height_ratios.append(height_ratio)\n",
    "\n",
    "  width_ratio = sum(width_ratios) / len(width_ratios)\n",
    "  height_ratio = sum(height_ratios) / len(height_ratios)\n",
    "\n",
    "  print(\"%s => width ratio: %.2f; height ratio: %.2f\" \n",
    "    % (LABEL, width_ratio, height_ratio))"
   ]
  }
 ],
 "metadata": {
  "kernelspec": {
   "display_name": "Python 3",
   "language": "python",
   "name": "python3"
  },
  "language_info": {
   "codemirror_mode": {
    "name": "ipython",
    "version": 3
   },
   "file_extension": ".py",
   "mimetype": "text/x-python",
   "name": "python",
   "nbconvert_exporter": "python",
   "pygments_lexer": "ipython3",
   "version": "3.5.2"
  }
 },
 "nbformat": 4,
 "nbformat_minor": 2
}
