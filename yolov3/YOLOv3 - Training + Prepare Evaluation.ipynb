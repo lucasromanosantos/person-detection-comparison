{
 "cells": [
  {
   "cell_type": "code",
   "execution_count": null,
   "metadata": {},
   "outputs": [],
   "source": [
    "%load_ext autoreload\n",
    "%autoreload 2"
   ]
  },
  {
   "cell_type": "code",
   "execution_count": null,
   "metadata": {},
   "outputs": [],
   "source": [
    "import keras\n",
    "\n",
    "import tensorflow as tf\n",
    "\n",
    "%matplotlib inline\n",
    "import matplotlib.pyplot as plt"
   ]
  },
  {
   "cell_type": "code",
   "execution_count": null,
   "metadata": {},
   "outputs": [],
   "source": [
    "keras.__version__, tf.__version__"
   ]
  },
  {
   "cell_type": "code",
   "execution_count": null,
   "metadata": {},
   "outputs": [],
   "source": [
    "import os\n",
    "from keras.backend.tensorflow_backend import set_session\n",
    "os.environ[\"CUDA_VISIBLE_DEVICES\"]=\"0\"\n",
    "\n",
    "config = tf.ConfigProto()\n",
    "config.gpu_options.allow_growth=True\n",
    "config.gpu_options.per_process_gpu_memory_fraction = 0.5\n",
    "set_session(tf.Session(config=config))"
   ]
  },
  {
   "cell_type": "markdown",
   "metadata": {},
   "source": [
    "### setup training\n",
    "\n",
    "modify LABEL and images path dir. at pascal-keras-yolo.py\n",
    "```\n",
    "$ python pascal-keras-yolo3.py\n",
    "$ mv train.txt keras-yolo3\n",
    "```"
   ]
  },
  {
   "cell_type": "code",
   "execution_count": null,
   "metadata": {},
   "outputs": [],
   "source": [
    "%run train.py"
   ]
  },
  {
   "cell_type": "markdown",
   "metadata": {},
   "source": [
    "### edit yolo.py\n",
    "\n",
    "since we will evaluate with mAP repo, we modify yolo.py to return predictions which will be used at predict_on_sample()\n",
    "\n",
    "```\n",
    "@@ -130,6 +130,7 @@ class YOLO(object):\n",
    "                     size=np.floor(3e-2 * image.size[1] + 0.5).astype('int32'))\n",
    "         thickness = (image.size[0] + image.size[1]) // 300\n",
    " \n",
    "+        predictions = []\n",
    "         for i, c in reversed(list(enumerate(out_classes))):\n",
    "             predicted_class = self.class_names[c]\n",
    "             box = out_boxes[i]\n",
    "@@ -145,6 +146,15 @@ class YOLO(object):\n",
    "             bottom = min(image.size[1], np.floor(bottom + 0.5).astype('int32'))\n",
    "             right = min(image.size[0], np.floor(right + 0.5).astype('int32'))\n",
    "             print(label, (left, top), (right, bottom))\n",
    "+            \n",
    "+            predictions.append({\n",
    "+                'top': top,\n",
    "+                'left': left,\n",
    "+                'bottom': bottom,\n",
    "+                'right': right,\n",
    "+                'class': predicted_class,\n",
    "+                'score': score\n",
    "+            })\n",
    " \n",
    "             if top - label_size[1] >= 0:\n",
    "                 text_origin = np.array([left, top - label_size[1]])\n",
    "@@ -164,7 +174,8 @@ class YOLO(object):\n",
    " \n",
    "         end = timer()\n",
    "         print(end - start)\n",
    "-        return image\n",
    "+        # return image\n",
    "+        return predictions\n",
    "```"
   ]
  },
  {
   "cell_type": "code",
   "execution_count": null,
   "metadata": {},
   "outputs": [],
   "source": [
    "from yolo import YOLO\n",
    "from yolo3.model import yolo_head, box_iou\n",
    "\n",
    "from keras import backend as K\n",
    "K.clear_session()\n",
    "\n",
    "label = 'head' # head/shoulder/inria_person (body)\n",
    "params = {\n",
    "    'model_path': 'logs/000/' + label + '/trained_complete_final.h5', \n",
    "    'classes': 'model_data/hollywood_classes.txt', \n",
    "    'classes_path': 'model_data/inria_classes.txt',\n",
    "    'image': True, \n",
    "    'output': ''\n",
    "}\n",
    "yolo = YOLO(**params)"
   ]
  },
  {
   "cell_type": "code",
   "execution_count": null,
   "metadata": {},
   "outputs": [],
   "source": [
    "from PIL import Image\n",
    "\n",
    "ImagesPath = '/home/lrs14/inria/INRIAPerson/Test/pos/'\n",
    "TestFile = '/home/lrs14/inria/INRIAPerson/Test/pos.lst'\n",
    "with open(TestFile) as f:\n",
    "    sample = f.readlines()\n",
    "\n",
    "label = 'head' # head/shoulder/inria_person\n",
    "\n",
    "RESULTS_PATH = '/home/lrs14/KERAS-YOLO3/mAP/predicted/'\n",
    "def predict_on_sample(yolo, sample):\n",
    "    for val in sample:\n",
    "        filename = val.split('/')[-1]\n",
    "        filename = filename.replace('\\n', '')\n",
    "        filepath = ImagesPath + filename\n",
    "        txt = open(RESULTS_PATH + filename.replace('png', 'txt'), 'w')\n",
    "        image = Image.open(filepath)\n",
    "        \n",
    "        predictions = yolo.detect_image(image)\n",
    "        for prediction in predictions:\n",
    "            xmin = prediction['left']\n",
    "            ymin = prediction['top']\n",
    "            xmax = prediction['right']\n",
    "            ymax = prediction['bottom']\n",
    "            score = prediction['score']\n",
    "            line = ' '.join(map(str, [label, score, xmin, ymin, xmax, ymax, '\\n']))\n",
    "            # uncomment when generating inference txt (1 class assumed)\n",
    "            # print(' '.join(map(str, [xmin, ymin, xmax, ymax, score])))\n",
    "            txt.write(line)\n",
    "        txt.close()\n",
    "        \n",
    "predict_on_sample(yolo, sample)"
   ]
  },
  {
   "cell_type": "markdown",
   "metadata": {},
   "source": [
    "#### parse the output to generate respective files at `inference-times` and `inferences`\n"
   ]
  }
 ],
 "metadata": {
  "kernelspec": {
   "display_name": "Python 3",
   "language": "python",
   "name": "python3"
  },
  "language_info": {
   "codemirror_mode": {
    "name": "ipython",
    "version": 3
   },
   "file_extension": ".py",
   "mimetype": "text/x-python",
   "name": "python",
   "nbconvert_exporter": "python",
   "pygments_lexer": "ipython3",
   "version": "3.5.2"
  }
 },
 "nbformat": 4,
 "nbformat_minor": 2
}
