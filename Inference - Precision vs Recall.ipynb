{
 "cells": [
  {
   "cell_type": "markdown",
   "metadata": {},
   "source": [
    "### 1. generate results trough mAP repository for each case"
   ]
  },
  {
   "cell_type": "code",
   "execution_count": 37,
   "metadata": {},
   "outputs": [],
   "source": [
    "folder = 'inferences'\n",
    "\n",
    "DETECTOR = 'retinanet'\n",
    "LABEL = 'inria_person'\n",
    "\n",
    "path = \"%s/%s-%s.txt\" % (folder, LABEL, DETECTOR)\n",
    "\n",
    "predicted_folder = '/home/lrs14/mAP/predicted/'\n",
    "with open(path) as f:\n",
    "  rows = [line[:-1] for line in f]\n",
    "  f = None\n",
    "  for row in rows:\n",
    "    if 'png' in row:\n",
    "      path = predicted_folder + row.replace('png', 'txt')\n",
    "      if f is not None:\n",
    "        f.close()\n",
    "      f = open(path, 'w')\n",
    "    else:\n",
    "        values = row.split(' ')\n",
    "        xmin = int(float(values[0]))\n",
    "        ymin = int(float(values[1]))\n",
    "        xmax = int(float(values[2]))\n",
    "        ymax = int(float(values[3]))\n",
    "        result = \"%s %s %d %d %d %d\\n\" % (LABEL, values[4], xmin, ymin, xmax, ymax)\n",
    "        f.write(result)\n",
    "if f is not None:\n",
    "  f.close()"
   ]
  },
  {
   "cell_type": "markdown",
   "metadata": {},
   "source": [
    "#### run main.py at mAP folder\n",
    "```\n",
    "mv results LABEL-DETECTOR-results\n",
    "```"
   ]
  },
  {
   "cell_type": "markdown",
   "metadata": {},
   "source": [
    "### 2. combine results to the same plot"
   ]
  },
  {
   "cell_type": "code",
   "execution_count": 34,
   "metadata": {},
   "outputs": [
    {
     "data": {
      "image/png": "[encoded data removed]",
      "text/plain": [
       "<Figure size 432x288 with 1 Axes>"
      ]
     },
     "metadata": {},
     "output_type": "display_data"
    }
   ],
   "source": [
    "import matplotlib.pyplot as plt\n",
    "import json\n",
    "\n",
    "labels = ['head', 'shoulder', 'inria_person']\n",
    "DETECTOR = 'RetinaNet'\n",
    "\n",
    "# workaround\n",
    "legend_labels = {\n",
    "  'head': 'head',\n",
    "  'shoulder': 'head-shoulder',\n",
    "  'inria_person': 'body'\n",
    "}\n",
    "\n",
    "for LABEL in labels:  \n",
    "  json_data = open('/home/lrs14/mAP/' + LABEL + '-rec-prec.json').read()\n",
    "  data = json.loads(json_data)\n",
    "\n",
    "  rec = data['rec']\n",
    "  prec = data['prec']\n",
    "    \n",
    "  plt.plot(rec, prec, alpha=0.7, label=legend_labels[LABEL], linewidth=3.0)\n",
    "  \n",
    "plt.title(DETECTOR)\n",
    "plt.xlabel('Recall')\n",
    "plt.ylabel('Precision')\n",
    "\n",
    "leg = plt.legend()\n",
    "\n",
    "for line in leg.get_lines():\n",
    "    line.set_linewidth(4)\n",
    "    \n",
    "plt.show()"
   ]
  },
  {
   "cell_type": "code",
   "execution_count": null,
   "metadata": {},
   "outputs": [],
   "source": []
  }
 ],
 "metadata": {
  "kernelspec": {
   "display_name": "Python 3",
   "language": "python",
   "name": "python3"
  },
  "language_info": {
   "codemirror_mode": {
    "name": "ipython",
    "version": 3
   },
   "file_extension": ".py",
   "mimetype": "text/x-python",
   "name": "python",
   "nbconvert_exporter": "python",
   "pygments_lexer": "ipython3",
   "version": "3.5.2"
  }
 },
 "nbformat": 4,
 "nbformat_minor": 2
}
